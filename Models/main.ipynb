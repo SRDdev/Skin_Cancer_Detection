{
 "cells": [
  {
   "cell_type": "code",
   "execution_count": null,
   "metadata": {},
   "outputs": [],
   "source": [
    "from helper import Directory_to_Image , dataset_split ,plot_random , remove_cache , Accuracy_plot , Predcition\n",
    "from cnn_model import model_architecture , compile_model , fit_model , eval_model"
   ]
  },
  {
   "cell_type": "code",
   "execution_count": null,
   "metadata": {},
   "outputs": [],
   "source": [
    "# Create Dataset\n",
    "path = r'Data/Skin cancer ISIC The International Skin Imaging Collaboration/Train'\n",
    "dataset , class_names = Directory_to_Image(path)\n",
    "\n",
    "#Split Datset\n",
    "train_ds , validation_ds ,test_ds=dataset_split(dataset)"
   ]
  },
  {
   "cell_type": "code",
   "execution_count": null,
   "metadata": {},
   "outputs": [],
   "source": [
    "#Plot Images\n",
    "plot_random(dataset,class_names)"
   ]
  },
  {
   "cell_type": "code",
   "execution_count": null,
   "metadata": {},
   "outputs": [],
   "source": [
    "# Shuffle Images\n",
    "remove_cache(train_ds,validation_ds,test_ds)"
   ]
  },
  {
   "cell_type": "code",
   "execution_count": null,
   "metadata": {},
   "outputs": [],
   "source": [
    "#Model Structure\n",
    "model_1 , summary_1 = model_architecture()\n",
    "\n",
    "#Compile \n",
    "compile_model(model_1)\n",
    "\n",
    "#Train\n",
    "history = fit_model(model_1,train_ds,validation_ds,epochs=35)\n",
    "\n",
    "# #Evaluate\n",
    "# eval(model_1,test_ds)"
   ]
  },
  {
   "cell_type": "code",
   "execution_count": null,
   "metadata": {},
   "outputs": [],
   "source": [
    "#Plot Accuracy\n",
    "Accuracy_plot(history)"
   ]
  },
  {
   "cell_type": "code",
   "execution_count": null,
   "metadata": {},
   "outputs": [],
   "source": [
    "#Prediction\n",
    "Predcition(model_1,test_ds,class_names)"
   ]
  },
  {
   "cell_type": "code",
   "execution_count": null,
   "metadata": {},
   "outputs": [],
   "source": []
  }
 ],
 "metadata": {
  "kernelspec": {
   "display_name": "Python 3 (ipykernel)",
   "language": "python",
   "name": "python3"
  },
  "language_info": {
   "codemirror_mode": {
    "name": "ipython",
    "version": 3
   },
   "file_extension": ".py",
   "mimetype": "text/x-python",
   "name": "python",
   "nbconvert_exporter": "python",
   "pygments_lexer": "ipython3",
   "version": "3.9.11"
  },
  "vscode": {
   "interpreter": {
    "hash": "e31aef8222fb7c235d2ed8e74ce17e973738f89b37261e7466b7a63a6dfb1214"
   }
  }
 },
 "nbformat": 4,
 "nbformat_minor": 2
}
