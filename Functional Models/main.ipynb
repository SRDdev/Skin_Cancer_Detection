{
 "cells": [
  {
   "cell_type": "markdown",
   "metadata": {},
   "source": [
    "# Skin Cancer Detection\n",
    "In this Project we foucs on predicting skin cancer & and its type in its early stages so that it can be better treated.\n",
    "\n",
    "This notebook follows rather basic approch of Convolutional Neural Networks for calssification Skin cancer images\n",
    "\n",
    "The dataset used for this is taken from kaggle : [DATA](https://www.kaggle.com/datasets/nodoubttome/skin-cancer9-classesisic)\n",
    "\n",
    "<img src=\"https://imgs.search.brave.com/DTnEuXk2roK4uSzESCLZI9SjVKvvvrticykW44KmkzM/rs:fit:1200:676:1/g:ce/aHR0cHM6Ly9taXJv/Lm1lZGl1bS5jb20v/bWF4LzM3MTIvMSpF/UHBZSS1sbGtidHdI/Z2ZwcnRUSnp3LnBu/Zw\">"
   ]
  },
  {
   "cell_type": "code",
   "execution_count": 1,
   "metadata": {},
   "outputs": [],
   "source": [
    "from helper import Directory_to_Image , dataset_split ,plot_random , remove_cache , Predcition ,Accuracy_plot\n",
    "from cnn_model import model_architecture , compile_model , fit_model , eval_model"
   ]
  },
  {
   "cell_type": "code",
   "execution_count": 2,
   "metadata": {},
   "outputs": [
    {
     "name": "stdout",
     "output_type": "stream",
     "text": [
      "Found 2239 files belonging to 9 classes.\n"
     ]
    }
   ],
   "source": [
    "# Create Dataset\n",
    "path = r'../Data/Skin cancer ISIC The International Skin Imaging Collaboration/Train'\n",
    "dataset , class_names = Directory_to_Image(path)\n",
    "\n",
    "#Split Datset\n",
    "train_ds , validation_ds ,test_ds=dataset_split(dataset)"
   ]
  },
  {
   "cell_type": "code",
   "execution_count": null,
   "metadata": {},
   "outputs": [],
   "source": [
    "#Plot Images\n",
    "plot_random(dataset,class_names)"
   ]
  },
  {
   "cell_type": "code",
   "execution_count": 3,
   "metadata": {},
   "outputs": [],
   "source": [
    "# Shuffle Images\n",
    "remove_cache(train_ds,validation_ds,test_ds)"
   ]
  },
  {
   "cell_type": "code",
   "execution_count": 5,
   "metadata": {},
   "outputs": [
    {
     "name": "stdout",
     "output_type": "stream",
     "text": [
      "Model: \"model_1\"\n",
      "_________________________________________________________________\n",
      " Layer (type)                Output Shape              Param #   \n",
      "=================================================================\n",
      " input_2 (InputLayer)        [(None, 256, 256, 3)]     0         \n",
      "                                                                 \n",
      " conv2d_5 (Conv2D)           (None, 254, 254, 16)      448       \n",
      "                                                                 \n",
      " max_pooling2d_5 (MaxPooling  (None, 127, 127, 16)     0         \n",
      " 2D)                                                             \n",
      "                                                                 \n",
      " conv2d_6 (Conv2D)           (None, 125, 125, 32)      4640      \n",
      "                                                                 \n",
      " max_pooling2d_6 (MaxPooling  (None, 62, 62, 32)       0         \n",
      " 2D)                                                             \n",
      "                                                                 \n",
      " conv2d_7 (Conv2D)           (None, 60, 60, 32)        9248      \n",
      "                                                                 \n",
      " max_pooling2d_7 (MaxPooling  (None, 30, 30, 32)       0         \n",
      " 2D)                                                             \n",
      "                                                                 \n",
      " conv2d_8 (Conv2D)           (None, 28, 28, 64)        18496     \n",
      "                                                                 \n",
      " max_pooling2d_8 (MaxPooling  (None, 14, 14, 64)       0         \n",
      " 2D)                                                             \n",
      "                                                                 \n",
      " conv2d_9 (Conv2D)           (None, 12, 12, 128)       73856     \n",
      "                                                                 \n",
      " max_pooling2d_9 (MaxPooling  (None, 6, 6, 128)        0         \n",
      " 2D)                                                             \n",
      "                                                                 \n",
      " flatten_1 (Flatten)         (None, 4608)              0         \n",
      "                                                                 \n",
      " dense_2 (Dense)             (None, 64)                294976    \n",
      "                                                                 \n",
      " dense_3 (Dense)             (None, 9)                 585       \n",
      "                                                                 \n",
      "=================================================================\n",
      "Total params: 402,249\n",
      "Trainable params: 402,249\n",
      "Non-trainable params: 0\n",
      "_________________________________________________________________\n",
      "Epoch 1/5\n",
      "56/56 [==============================] - 105s 2s/step - loss: 7.9173 - accuracy: 0.1669 - val_loss: 7.9344 - val_accuracy: 0.1518\n",
      "Epoch 2/5\n",
      "56/56 [==============================] - 93s 1s/step - loss: 8.1233 - accuracy: 0.1624 - val_loss: 7.8625 - val_accuracy: 0.1473\n",
      "Epoch 3/5\n",
      "56/56 [==============================] - 83s 1s/step - loss: 8.0822 - accuracy: 0.1619 - val_loss: 7.7905 - val_accuracy: 0.1920\n",
      "Epoch 4/5\n",
      "56/56 [==============================] - 85s 1s/step - loss: 8.1272 - accuracy: 0.1619 - val_loss: 8.5820 - val_accuracy: 0.1518\n",
      "Epoch 5/5\n",
      "56/56 [==============================] - 92s 1s/step - loss: 7.9292 - accuracy: 0.1597 - val_loss: 8.3661 - val_accuracy: 0.1205\n"
     ]
    }
   ],
   "source": [
    "#Model Structure\n",
    "model_1 , summary_1 = model_architecture()\n",
    "\n",
    "#Compile \n",
    "compile_model(model_1)\n",
    "\n",
    "#Train\n",
    "history = fit_model(model_1,train_ds,validation_ds,epochs=5)\n",
    "\n",
    "# #Evaluate\n",
    "# eval(model_1,test_ds)"
   ]
  },
  {
   "cell_type": "code",
   "execution_count": 6,
   "metadata": {},
   "outputs": [
    {
     "data": {
      "image/png": "[encoded data removed]",
      "text/plain": [
       "<Figure size 432x288 with 1 Axes>"
      ]
     },
     "metadata": {
      "needs_background": "light"
     },
     "output_type": "display_data"
    },
    {
     "data": {
      "text/plain": [
       "([0.16694584488868713,\n",
       "  0.1623883992433548,\n",
       "  0.1619207113981247,\n",
       "  0.1619207113981247,\n",
       "  0.1596873253583908],\n",
       " [0.1517857164144516,\n",
       "  0.1473214328289032,\n",
       "  0.1919642835855484,\n",
       "  0.1517857164144516,\n",
       "  0.1205357164144516],\n",
       " [7.93441104888916,\n",
       "  7.86245584487915,\n",
       "  7.790499687194824,\n",
       "  8.582014083862305,\n",
       "  8.366145133972168],\n",
       " [7.917263031005859,\n",
       "  8.12329387664795,\n",
       "  8.082218170166016,\n",
       "  8.127215385437012,\n",
       "  7.929225444793701])"
      ]
     },
     "execution_count": 6,
     "metadata": {},
     "output_type": "execute_result"
    }
   ],
   "source": [
    "#Plot Accuracy\n",
    "Accuracy_plot(history)"
   ]
  },
  {
   "cell_type": "code",
   "execution_count": null,
   "metadata": {},
   "outputs": [],
   "source": [
    "#Prediction\n",
    "Predcition(model_1,test_ds,class_names,image_numbers=2)"
   ]
  },
  {
   "cell_type": "code",
   "execution_count": null,
   "metadata": {},
   "outputs": [],
   "source": [
    "#model save\n",
    "cnn_model.save('cnn_model_v1.h5')\n",
    "cnn_model.save_weights('cnn_model_v1_weights.h5')\n",
    "print(\"Model & Weights Saved !!\")"
   ]
  },
  {
   "cell_type": "code",
   "execution_count": null,
   "metadata": {},
   "outputs": [],
   "source": []
  }
 ],
 "metadata": {
  "kernelspec": {
   "display_name": "Python 3 (ipykernel)",
   "language": "python",
   "name": "python3"
  },
  "language_info": {
   "codemirror_mode": {
    "name": "ipython",
    "version": 3
   },
   "file_extension": ".py",
   "mimetype": "text/x-python",
   "name": "python",
   "nbconvert_exporter": "python",
   "pygments_lexer": "ipython3",
   "version": "3.9.11"
  },
  "vscode": {
   "interpreter": {
    "hash": "e31aef8222fb7c235d2ed8e74ce17e973738f89b37261e7466b7a63a6dfb1214"
   }
  }
 },
 "nbformat": 4,
 "nbformat_minor": 2
}
